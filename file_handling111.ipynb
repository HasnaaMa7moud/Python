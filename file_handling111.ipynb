{
 "cells": [
  {
   "cell_type": "code",
   "execution_count": null,
   "id": "2dec5aec-3134-4dc6-b768-2d0ba23cdb1f",
   "metadata": {},
   "outputs": [],
   "source": [
    "file_in =open(r\"/home/noura369/Desktop/python.txt\",'r')\n",
    "file_3=file_in.read(3)"
   ]
  },
  {
   "cell_type": "code",
   "execution_count": null,
   "id": "02a72cef-7d56-4ffa-aae4-fd261bd6ca52",
   "metadata": {},
   "outputs": [],
   "source": [
    "def read_lastnlines(fname,n):\n",
    "    with open('/home/noura369/Desktop/python.txt') as f:\n",
    "        for line in (f.readlines() [-3:]):\n",
    "            print(line)\n",
    "read_lastnlines('/home/noura369/Desktop/python.txt',3)#"
   ]
  },
  {
   "cell_type": "code",
   "execution_count": null,
   "id": "cc02a451-38fb-49c2-a8a0-c7ffa45a4478",
   "metadata": {},
   "outputs": [],
   "source": [
    "file_in = file_in.read()\n",
    "words = file_in.split()###filename.split()function was used for all the words are split to return a list\n",
    "print('Number of words in text file :', len(words))"
   ]
  }
 ],
 "metadata": {
  "kernelspec": {
   "display_name": "Python 3 (ipykernel)",
   "language": "python",
   "name": "python3"
  },
  "language_info": {
   "codemirror_mode": {
    "name": "ipython",
    "version": 3
   },
   "file_extension": ".py",
   "mimetype": "text/x-python",
   "name": "python",
   "nbconvert_exporter": "python",
   "pygments_lexer": "ipython3",
   "version": "3.8.10"
  }
 },
 "nbformat": 4,
 "nbformat_minor": 5
}
