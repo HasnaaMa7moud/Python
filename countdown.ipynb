{
 "cells": [
  {
   "cell_type": "code",
   "execution_count": null,
   "id": "27a413ec-626e-4e65-be8a-705a8fdfc206",
   "metadata": {},
   "outputs": [],
   "source": [
    "import time\n",
    "\n",
    "seconds = int(input(\"Please enter the number of seconds : \"))\n",
    "\n",
    "def countdown(t):\n",
    "    while t:\n",
    "        mins = t // 60 #90 // 60 = 1\n",
    "        secs = t % 60\n",
    "        timeformat = '{:02d}:{:02d}'.format(mins, secs)\n",
    "        print(\"\\r\",timeformat, end='')\n",
    "        time.sleep(1)\n",
    "        t = t - 1 \n",
    "    print(\"Fire in the hole!!\")\n",
    "\n",
    "countdown(seconds)"
   ]
  },
  {
   "cell_type": "code",
   "execution_count": null,
   "id": "5c35e9be-a0d9-4fcb-a8df-5beffebd0e43",
   "metadata": {},
   "outputs": [],
   "source": []
  }
 ],
 "metadata": {
  "kernelspec": {
   "display_name": "Python 3 (ipykernel)",
   "language": "python",
   "name": "python3"
  },
  "language_info": {
   "codemirror_mode": {
    "name": "ipython",
    "version": 3
   },
   "file_extension": ".py",
   "mimetype": "text/x-python",
   "name": "python",
   "nbconvert_exporter": "python",
   "pygments_lexer": "ipython3",
   "version": "3.8.10"
  }
 },
 "nbformat": 4,
 "nbformat_minor": 5
}
