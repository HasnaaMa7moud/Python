{
 "cells": [
  {
   "cell_type": "code",
   "execution_count": 9,
   "id": "7fe0403d-a08e-4197-a0b7-cb33be67f5e4",
   "metadata": {},
   "outputs": [
    {
     "name": "stdout",
     "output_type": "stream",
     "text": [
      "[1, 2, 3, 4, 5, 6]\n"
     ]
    }
   ],
   "source": [
    "#Question 1\n",
    "#Write a Python program to convert an array to an ordinary list with the same items.we can use the np.tolist() function\n",
    "#################################################\n",
    "#AnswerQ1#\n",
    "##########\n",
    "import numpy as np\n",
    "a=np.array([1,2,3,4,5,6])\n",
    "L=a.tolist()\n",
    "print(L)"
   ]
  },
  {
   "cell_type": "code",
   "execution_count": 13,
   "id": "9055c5d2-8cc6-4e29-8f48-02ddbd471302",
   "metadata": {},
   "outputs": [
    {
     "name": "stdout",
     "output_type": "stream",
     "text": [
      "[[ 1  2  3  4]\n",
      " [ 5  6  7  8]\n",
      " [ 9 10 11 12]\n",
      " [13 14 15 15]]\n",
      "33\n"
     ]
    }
   ],
   "source": [
    "#Question 2 \n",
    "#Write a NumPy program to compute the sum of the diagonal elements of a given array.\n",
    "#Hint: Two methods to solve this problem: 1. manually(without direct function). 2. using the trace function\n",
    "##################################################\n",
    "#AnswerQ2#\n",
    "##########\n",
    "import numpy as np\n",
    "a=np.array([[1,2,3,4],\n",
    "            [5,6,7,8],\n",
    "            [9,10,11,12],\n",
    "            [13,14,15,15]])\n",
    "print(a)\n",
    "b=np.trace(a)\n",
    "print(b)\n",
    "#c=np.diagonal(a)\n",
    "#print(c)"
   ]
  },
  {
   "cell_type": "code",
   "execution_count": 13,
   "id": "eec01683-6bed-476d-9d45-de7492f7c2f6",
   "metadata": {},
   "outputs": [
    {
     "name": "stdout",
     "output_type": "stream",
     "text": [
      "[[ 1  2  3  4]\n",
      " [ 5  6  7  8]\n",
      " [ 9 10 11 12]\n",
      " [13 14 15 15]]\n"
     ]
    }
   ],
   "source": [
    "#Question 3\n",
    "#Given an array of your choice, get all the values higher than X :if a = [[1,2],[3,5]] and x = 2 :  then 3 and 5 are higher than 2. \n",
    "####################################################\n",
    "#AnswerQ3#\n",
    "############\n",
    "import numpy as np\n",
    "a=np.array([[1,2,3,4],\n",
    "            [5,6,7,8],\n",
    "            [9,10,11,12],\n",
    "            [13,14,15,15]])\n",
    "print(a)\n",
    "x = 2\n"
   ]
  },
  {
   "cell_type": "code",
   "execution_count": 7,
   "id": "c0574f2f-f33f-4a34-948e-38b218c0dbfd",
   "metadata": {},
   "outputs": [
    {
     "name": "stdout",
     "output_type": "stream",
     "text": [
      "[5 7 9]\n"
     ]
    }
   ],
   "source": [
    "#Question 4\n",
    "#Given two arrays, A & B have the same shape. The task is to apply addition by hand: C is the new array.\n",
    "#################################################\n",
    "#AnswerQ4#\n",
    "########\n",
    "import numpy as np\n",
    "A=np.array([1,2,3])\n",
    "B=np.array([4,5,6])\n",
    "C=np.array(A + B)\n",
    "print(C)"
   ]
  },
  {
   "cell_type": "code",
   "execution_count": 12,
   "id": "6fb5f04f-8110-4c8c-b2ca-9631232cc5f0",
   "metadata": {},
   "outputs": [
    {
     "name": "stdout",
     "output_type": "stream",
     "text": [
      "[[-6.   -6.   -6.   -5.75]\n",
      " [-2.   -2.   -2.   -1.75]\n",
      " [ 2.    2.    2.    2.25]\n",
      " [ 6.    6.    6.    5.25]]\n"
     ]
    }
   ],
   "source": [
    "#Question 5\n",
    "#Write a NumPy program to subtract the mean of each row of a given matrix.Hint: use the mean function\n",
    "####################################################\n",
    "#AnswerQ5#\n",
    "##########\n",
    "import numpy as np\n",
    "a=np.array([[1,2,3,4],\n",
    "            [5,6,7,8],\n",
    "            [9,10,11,12],\n",
    "            [13,14,15,15]])\n",
    "b=a - a.mean(axis=0)\n",
    "print (b)"
   ]
  }
 ],
 "metadata": {
  "kernelspec": {
   "display_name": "Python 3",
   "language": "python",
   "name": "python3"
  },
  "language_info": {
   "codemirror_mode": {
    "name": "ipython",
    "version": 3
   },
   "file_extension": ".py",
   "mimetype": "text/x-python",
   "name": "python",
   "nbconvert_exporter": "python",
   "pygments_lexer": "ipython3",
   "version": "3.9.5"
  }
 },
 "nbformat": 4,
 "nbformat_minor": 5
}
