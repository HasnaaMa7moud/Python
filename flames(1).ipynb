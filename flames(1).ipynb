{
 "cells": [
  {
   "cell_type": "code",
   "execution_count": null,
   "id": "68fcef29-85ae-43bb-bc67-d87df376ebcf",
   "metadata": {},
   "outputs": [],
   "source": [
    "def flames(n1,n2):\n",
    "    for i in n1:\n",
    "        for j in n2:\n",
    "            if i == j:\n",
    "                n1 = n1.replace(i,\"\",1)\n",
    "                n2 = n2.replace(j,\"\",1)\n",
    "    n3 = len(n1+n2) \n",
    "    return n3\n",
    "x = input(\"Please enter your name : \")\n",
    "y = input(\"Please enter second person's name : \")\n",
    "z = flames(x,y) #5\n",
    "if z >= 0:\n",
    "    flameslist = [\"Friends\", \"Lovers\", \"Affectionate\", \"Marriage\", \"Enemies\", \"siblings\"]\n",
    "    while len(flameslist) > 1:\n",
    "        count = z % len(flameslist)\n",
    "        split = count - 1\n",
    "        if split >= 0:\n",
    "            right = flameslist[split+1:]\n",
    "            left = flameslist[:split]\n",
    "            flameslist = right + left\n",
    "            print(flameslist)\n",
    "        else:\n",
    "            flameslist = flameslist[:len(flameslist)-1]\n",
    "    print(\"Your relationship with the second person is : \", flameslist[0])\n",
    "\n",
    "else:\n",
    "    print(\"enter other names\")"
   ]
  },
  {
   "cell_type": "code",
   "execution_count": null,
   "id": "5bc4a0d8-1fb3-4cb1-920f-07f436c903de",
   "metadata": {},
   "outputs": [],
   "source": []
  }
 ],
 "metadata": {
  "kernelspec": {
   "display_name": "Python 3 (ipykernel)",
   "language": "python",
   "name": "python3"
  },
  "language_info": {
   "codemirror_mode": {
    "name": "ipython",
    "version": 3
   },
   "file_extension": ".py",
   "mimetype": "text/x-python",
   "name": "python",
   "nbconvert_exporter": "python",
   "pygments_lexer": "ipython3",
   "version": "3.8.10"
  }
 },
 "nbformat": 4,
 "nbformat_minor": 5
}
