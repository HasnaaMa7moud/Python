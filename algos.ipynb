{
  "nbformat": 4,
  "nbformat_minor": 0,
  "metadata": {
    "colab": {
      "name": "algos.ipynb",
      "provenance": []
    },
    "kernelspec": {
      "name": "python3",
      "display_name": "Python 3"
    },
    "language_info": {
      "name": "python"
    }
  },
  "cells": [
    {
      "cell_type": "code",
      "execution_count": 3,
      "metadata": {
        "colab": {
          "base_uri": "https://localhost:8080/"
        },
        "id": "5ufj6cgXjgN8",
        "outputId": "98193771-7ae4-47af-b3c0-5e3e61bdfb46"
      },
      "outputs": [
        {
          "output_type": "stream",
          "name": "stdout",
          "text": [
            "2\n",
            "None\n"
          ]
        }
      ],
      "source": [
        "def binary_search(sequence, item):\n",
        "    begin_index = 0\n",
        "    end_index = len(sequence) - 1\n",
        "    while begin_index <= end_index:#less than= end_index\n",
        "        midpoint = begin_index + (end_index - begin_index) // 2\n",
        "        midpoint_value = sequence[midpoint]\n",
        "        if midpoint_value == item:\n",
        "            return midpoint\n",
        "        elif item: #less than midpoint_value:\n",
        "            end_index = midpoint - 1\n",
        "        else:\n",
        "            begin_index = midpoint + 1\n",
        "        return None\n",
        "print(binary_search([1,2,3,5,8], 3))\n",
        "print(binary_search([1,2,3,5,8], 5))"
      ]
    },
    {
      "cell_type": "code",
      "source": [
        "def power(a,b):\n",
        "    if b==0:\n",
        "        return 1\n",
        "    elif a==0:\n",
        "        return 0\n",
        "    elif b==1:\n",
        "        return a\n",
        "    else:\n",
        "        return a*power(a,b-1)\n",
        "print(power(3,4))"
      ],
      "metadata": {
        "colab": {
          "base_uri": "https://localhost:8080/"
        },
        "id": "4V4AXVQWjvD7",
        "outputId": "bd65069e-7def-4553-d59a-0d37332605c5"
      },
      "execution_count": 4,
      "outputs": [
        {
          "output_type": "stream",
          "name": "stdout",
          "text": [
            "81\n"
          ]
        }
      ]
    },
    {
      "cell_type": "code",
      "source": [
        "def Bubble_Sort(alist):\n",
        "    exchanges = True\n",
        "    passnum = len(lst)-1\n",
        "    while passnum > 0 and exchanges:\n",
        "       exchanges = False\n",
        "       for i in range(passnum):\n",
        "           if lst[i]>lst[i+1]:\n",
        "               exchanges = True\n",
        "               temp = alist[i]\n",
        "               lst[i] = lst[i+1]\n",
        "               lst[i+1] = temp\n",
        "       passnum = passnum-1\n",
        "\n",
        "lst=[29,13,22,37,52,49,46,71,56]\n",
        "Bubble_Sort(lst)\n",
        "print(lst)"
      ],
      "metadata": {
        "colab": {
          "base_uri": "https://localhost:8080/"
        },
        "id": "tilZHTuOkJBK",
        "outputId": "1bcfd2d6-3a3a-476d-b408-6067ce229c38"
      },
      "execution_count": 8,
      "outputs": [
        {
          "output_type": "stream",
          "name": "stdout",
          "text": [
            "[13, 22, 29, 37, 46, 49, 52, 56, 71]\n"
          ]
        }
      ]
    },
    {
      "cell_type": "code",
      "source": [
        "def mergeSort(liss):\n",
        "    if len(liss) > 1:\n",
        "        mid = len(liss) // 2\n",
        "        left_list=liss[:mid]\n",
        "        right_list=liss[mid:]\n",
        "\n",
        "        mergeSort(left_list)\n",
        "        mergeSort(right_list)\n",
        "        i = 0\n",
        "        j = 0\n",
        "        k = 0\n",
        "        while i < len(left_list) and j < len(right_list):\n",
        "            if left_list[i] <= right_list[j]:\n",
        "                liss[k] = left_list[i]\n",
        "                i += 1\n",
        "            else:\n",
        "                liss[k] = right_list[j]\n",
        "                j += 1\n",
        "            k += 1\n",
        "\n",
        "\n",
        "        while i < len(left_list):\n",
        "            liss[k] = left_list[i]\n",
        "            i += 1\n",
        "            k += 1\n",
        "        while j < len(right_list):\n",
        "            liss[k] = right_list[j]\n",
        "            j += 1\n",
        "            k += 1\n",
        "\n",
        "x = [29,13,22,37,52,49,46,71,56]\n",
        "mergeSort(x)\n",
        "print(x)"
      ],
      "metadata": {
        "colab": {
          "base_uri": "https://localhost:8080/"
        },
        "id": "fkquUbeNkOIr",
        "outputId": "923521a6-d35f-4b0d-fdd1-684fdbb400a0"
      },
      "execution_count": 14,
      "outputs": [
        {
          "output_type": "stream",
          "name": "stdout",
          "text": [
            "[13, 22, 29, 37, 46, 49, 52, 56, 71]\n"
          ]
        }
      ]
    },
    {
      "cell_type": "code",
      "source": [
        "def quicksort(lst):\n",
        "  length = len(lst)\n",
        "  if length <=1:\n",
        "    return lst\n",
        "  else :\n",
        "    pivot = lst.pop()\n",
        "  lst_lower=[]\n",
        "  lst_greater=[]\n",
        "  for i in lst:\n",
        "    if i > pivot:\n",
        "      lst_greater.append(i)\n",
        "    else :\n",
        "      lst_lower.append(i)\n",
        "  return quicksort(lst_lower) + [pivot] + quicksort(lst_greater)\n",
        "\n",
        "x = [29,13,22,37,52,49,46,71,56]\n",
        "\n",
        "print(quicksort(x))\n",
        "      "
      ],
      "metadata": {
        "colab": {
          "base_uri": "https://localhost:8080/"
        },
        "id": "8dZZ_uU0ntkP",
        "outputId": "c504ed8e-fe19-4b46-d23e-b8e05ec70793"
      },
      "execution_count": 13,
      "outputs": [
        {
          "output_type": "stream",
          "name": "stdout",
          "text": [
            "[13, 22, 29, 37, 46, 49, 52, 56, 71]\n"
          ]
        }
      ]
    }
  ]
}