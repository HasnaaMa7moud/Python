{
 "cells": [
  {
   "cell_type": "code",
   "execution_count": 1,
   "id": "e41354b9-dbf9-4a8a-88c2-584347629c9a",
   "metadata": {},
   "outputs": [
    {
     "name": "stdout",
     "output_type": "stream",
     "text": [
      "[1, 2, 3, 4, 5, 6]\n"
     ]
    }
   ],
   "source": [
    "#Question 1\n",
    "#Write a Python program to convert an array to an ordinary list with the same items.we can use the np.tolist() function\n",
    "#################################################\n",
    "#AnswerQ1#\n",
    "##########\n",
    "import numpy as np\n",
    "a=np.array([1,2,3,4,5,6])\n",
    "L=a.tolist()\n",
    "print(L)"
   ]
  },
  {
   "cell_type": "code",
   "execution_count": 2,
   "id": "cc786358-d95b-4ce5-af76-67c0988282c5",
   "metadata": {},
   "outputs": [
    {
     "name": "stdout",
     "output_type": "stream",
     "text": [
      "[[ 1  2  3  4]\n",
      " [ 5  6  7  8]\n",
      " [ 9 10 11 12]\n",
      " [13 14 15 15]]\n",
      "33\n"
     ]
    }
   ],
   "source": [
    "#Question 2 \n",
    "#Write a NumPy program to compute the sum of the diagonal elements of a given array.\n",
    "#Hint: Two methods to solve this problem: 1. manually(without direct function). 2. using the trace function\n",
    "##################################################\n",
    "#AnswerQ2#\n",
    "##########\n",
    "import numpy as np\n",
    "a=np.array([[1,2,3,4],\n",
    "            [5,6,7,8],\n",
    "            [9,10,11,12],\n",
    "            [13,14,15,15]])\n",
    "print(a)\n",
    "b=np.trace(a)\n",
    "print(b)\n",
    "#c=np.diagonal(a)\n",
    "#print(c)"
   ]
  },
  {
   "cell_type": "code",
   "execution_count": 3,
   "id": "b97e36cb-05bf-46e1-9cce-9ac9fb30617f",
   "metadata": {},
   "outputs": [
    {
     "name": "stdout",
     "output_type": "stream",
     "text": [
      "[[ 1  2  3  4]\n",
      " [ 5  6  7  8]\n",
      " [ 9 10 11 12]\n",
      " [13 14 15 15]]\n",
      "[ 3  4  5  6  7  8  9 10 11 12 13 14 15 15]\n"
     ]
    }
   ],
   "source": [
    "#Question 3\n",
    "#Given an array of your choice, get all the values higher than X :if a = [[1,2],[3,5]] and x = 2 :  then 3 and 5 are higher than 2. \n",
    "####################################################\n",
    "#AnswerQ3#\n",
    "############\n",
    "import numpy as np\n",
    "a=np.array([[1,2,3,4],\n",
    "            [5,6,7,8],\n",
    "            [9,10,11,12],\n",
    "            [13,14,15,15]])\n",
    "print(a)\n",
    "x=2\n",
    "print(a[a>x])"
   ]
  },
  {
   "cell_type": "code",
   "execution_count": 4,
   "id": "cebe1395-2d26-4cd8-8e00-42002ee360d2",
   "metadata": {},
   "outputs": [
    {
     "name": "stdout",
     "output_type": "stream",
     "text": [
      "[5 7 9]\n"
     ]
    }
   ],
   "source": [
    "#Question 4\n",
    "#Given two arrays, A & B have the same shape. The task is to apply addition by hand: C is the new array.\n",
    "#################################################\n",
    "#AnswerQ4#\n",
    "########\n",
    "import numpy as np\n",
    "A=np.array([1,2,3])\n",
    "B=np.array([4,5,6])\n",
    "C=np.array(A + B)\n",
    "print(C)"
   ]
  },
  {
   "cell_type": "code",
   "execution_count": 5,
   "id": "61d0fc04-cecf-4dcc-ae10-21325bf41725",
   "metadata": {},
   "outputs": [
    {
     "ename": "SyntaxError",
     "evalue": "invalid syntax (<ipython-input-5-5fd4ff8cd372>, line 1)",
     "output_type": "error",
     "traceback": [
      "\u001b[0;36m  File \u001b[0;32m\"<ipython-input-5-5fd4ff8cd372>\"\u001b[0;36m, line \u001b[0;32m1\u001b[0m\n\u001b[0;31m    Question 5\u001b[0m\n\u001b[0m             ^\u001b[0m\n\u001b[0;31mSyntaxError\u001b[0m\u001b[0;31m:\u001b[0m invalid syntax\n"
     ]
    }
   ],
   "source": [
    "Question 5\n",
    "#Write a NumPy program to subtract the mean of each row of a given matrix.Hint: use the mean function\n",
    "####################################################\n",
    "#AnswerQ5#\n",
    "##########\n",
    "import numpy as np\n",
    "a=np.array([[1,2,3,4],\n",
    "            [5,6,7,8],\n",
    "            [9,10,11,12],\n",
    "            [13,14,15,15]])\n",
    "b=a - a.mean(axis=0)\n",
    "print (b)"
   ]
  },
  {
   "cell_type": "code",
   "execution_count": null,
   "id": "2d4c853d-4c53-43b6-8023-757ad930d3e3",
   "metadata": {},
   "outputs": [],
   "source": []
  }
 ],
 "metadata": {
  "kernelspec": {
   "display_name": "Python 3",
   "language": "python",
   "name": "python3"
  },
  "language_info": {
   "codemirror_mode": {
    "name": "ipython",
    "version": 3
   },
   "file_extension": ".py",
   "mimetype": "text/x-python",
   "name": "python",
   "nbconvert_exporter": "python",
   "pygments_lexer": "ipython3",
   "version": "3.9.5"
  }
 },
 "nbformat": 4,
 "nbformat_minor": 5
}
