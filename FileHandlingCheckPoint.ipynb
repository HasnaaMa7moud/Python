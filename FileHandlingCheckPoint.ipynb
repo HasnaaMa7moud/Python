{
  "nbformat": 4,
  "nbformat_minor": 0,
  "metadata": {
    "colab": {
      "name": "Untitled2.ipynb",
      "provenance": []
    },
    "kernelspec": {
      "name": "python3",
      "display_name": "Python 3"
    },
    "language_info": {
      "name": "python"
    }
  },
  "cells": [
    {
      "cell_type": "code",
      "source": [
        "#Objective\n",
        "#1. Write a Python program to read an entire text file.\n",
        "#2. Write a Python program to read first n lines of a file.\n",
        "#3. Write a Python program to read last n lines of a file\n",
        "#4. Write a Python program that takes a text file as input and returns the number of words of a given text file.\n",
        "#5. (bonus) Write a Python program to read last n lines of a file\n",
        "file_in =open(r\"/content/python.txt\",'r')\n",
        "file_3=file_in.read()\n",
        "print(file_3)\n",
        "\n",
        "############################\n",
        "#########python code to return the number of words of a given text file.###########\n"
      ],
      "metadata": {
        "id": "BeZuyTm-dr1z",
        "colab": {
          "base_uri": "https://localhost:8080/"
        },
        "outputId": "cb5259c9-70e8-4459-fc1a-48c1be522380"
      },
      "execution_count": null,
      "outputs": [
        {
          "output_type": "stream",
          "name": "stdout",
          "text": [
            "What is Python language?                                                \n",
            "Python is a widely used high-level, general-purpose, interpreted, dynamic programming language.Its design philosophy emphasizes code readability, and its syntax allows programmers to express concepts in fewer lines of code than possible in \n",
            "languages such as C++ or Java. \n",
            "Python supports multiple programming paradigms, including object-oriented, imperative and functional programming or procedural styles. It features a dynamic type system and automatic memory management and has a large and comprehensive standard library.The best way we learn anything is by practice and exercise questions. We  have started this section for those (beginner to intermediate) who are familiar with Python.\n"
          ]
        }
      ]
    },
    {
      "cell_type": "code",
      "source": [
        "file_in =open(r\"/content/python.txt\",'r')\n",
        "for i in range(2):\n",
        "  l = file_in.readline()\n",
        "  print(l)"
      ],
      "metadata": {
        "colab": {
          "base_uri": "https://localhost:8080/"
        },
        "id": "1xwQ1iYBgTTF",
        "outputId": "2a66dbb7-4aaf-4c5f-c6c0-e724f4cf86c9"
      },
      "execution_count": null,
      "outputs": [
        {
          "output_type": "stream",
          "name": "stdout",
          "text": [
            "What is Python language?                                                \n",
            "\n",
            "Python is a widely used high-level, general-purpose, interpreted, dynamic programming language.Its design philosophy emphasizes code readability, and its syntax allows programmers to express concepts in fewer lines of code than possible in \n",
            "\n"
          ]
        }
      ]
    },
    {
      "cell_type": "code",
      "source": [
        "#file_3=file_in.read(-3)\n",
        "####################this program i searched for from this site[https://code.maxinterview.com/code/write-a-python-program-to-read-last-n-lines-of-a-file-42770026DAF2610/]after many triels####\n",
        "####program to read the last(n) lines#####\n",
        "def read_lastnlines(fname,n):\n",
        "    with open('/content/python.txt') as f:\n",
        "        for line in (f.readlines() [-3:]):\n",
        "            print(line)\n",
        "read_lastnlines('/content/python.txt',3)###by the way This code ### does not give me the target too###"
      ],
      "metadata": {
        "colab": {
          "base_uri": "https://localhost:8080/"
        },
        "id": "QPQry3NygQEB",
        "outputId": "d68f7e0a-c06b-4092-93c3-64c7552536b1"
      },
      "execution_count": null,
      "outputs": [
        {
          "output_type": "stream",
          "name": "stdout",
          "text": [
            "Python is a widely used high-level, general-purpose, interpreted, dynamic programming language.Its design philosophy emphasizes code readability, and its syntax allows programmers to express concepts in fewer lines of code than possible in \n",
            "\n",
            "languages such as C++ or Java. \n",
            "\n",
            "Python supports multiple programming paradigms, including object-oriented, imperative and functional programming or procedural styles. It features a dynamic type system and automatic memory management and has a large and comprehensive standard library.The best way we learn anything is by practice and exercise questions. We  have started this section for those (beginner to intermediate) who are familiar with Python.\n"
          ]
        }
      ]
    },
    {
      "cell_type": "code",
      "source": [
        "file_in =open(r\"/content/python.txt\",'r')\n",
        "words = file_in.read()\n",
        "print('Number of words in text file :', len(words.split()))"
      ],
      "metadata": {
        "id": "3U8eN6HYgvA5",
        "colab": {
          "base_uri": "https://localhost:8080/"
        },
        "outputId": "13817bcf-4179-4ac3-eb46-9fdb6c66ba0a"
      },
      "execution_count": 29,
      "outputs": [
        {
          "output_type": "stream",
          "name": "stdout",
          "text": [
            "Number of words in text file : 100\n"
          ]
        }
      ]
    },
    {
      "cell_type": "code",
      "source": [
        ""
      ],
      "metadata": {
        "id": "nBq08dqEhP_J"
      },
      "execution_count": null,
      "outputs": []
    }
  ]
}