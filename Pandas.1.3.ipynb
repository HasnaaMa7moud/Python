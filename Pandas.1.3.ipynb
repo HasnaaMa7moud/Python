{
 "cells": [
  {
   "cell_type": "code",
   "execution_count": 11,
   "id": "e15ad978-dfc0-4257-9258-f676e272800d",
   "metadata": {},
   "outputs": [
    {
     "name": "stdout",
     "output_type": "stream",
     "text": [
      "        name  score  attempts qualify\n",
      "0  Anastasia   12.5         1     yes\n",
      "1       Dima    9.0         3      no\n",
      "2  Katherine   16.5         2     yes\n",
      "4      Emily    9.0         2      no\n",
      "5    Michael   20.0         3     yes\n",
      "6    Matthew   14.5         1     yes\n",
      "8      Kevin    8.0         2      no\n",
      "9      Jonas   19.0         1     yes\n",
      "        name  score\n",
      "0  Anastasia   12.5\n",
      "1       Dima    9.0\n",
      "2  Katherine   16.5\n",
      "4      Emily    9.0\n",
      "5    Michael   20.0\n",
      "6    Matthew   14.5\n",
      "8      Kevin    8.0\n",
      "9      Jonas   19.0\n",
      "        name  score  attempts qualify\n",
      "0  Anastasia   12.5         1     yes\n",
      "1       Dima    9.0         3      no\n",
      "2  Katherine   16.5         2     yes\n",
      "4      Emily    9.0         2      no\n",
      "5    Michael   20.0         3     yes\n",
      "6    Matthew   14.5         1     yes\n",
      "8      Kevin    8.0         2      no\n",
      "9      Jonas   19.0         1     yes\n",
      "k     Suresh   15.5         1     yes\n",
      "        name  score qualify success\n",
      "0  Anastasia   12.5     yes       1\n",
      "1       Dima    9.0      no       0\n",
      "2  Katherine   16.5     yes       1\n",
      "4      Emily    9.0      no       0\n",
      "5    Michael   20.0     yes       1\n",
      "6    Matthew   14.5     yes       1\n",
      "8      Kevin    8.0      no       0\n",
      "9      Jonas   19.0     yes       1\n",
      "k     Suresh   15.5     yes       1\n"
     ]
    }
   ],
   "source": [
    "#Write a Pandas program to create and display a DataFrame from the following dictionary data which has index labels.\n",
    "#exam_data = {'name': ['Anastasia', 'Dima', 'Katherine', 'James', 'Emily', 'Michael', 'Matthew', 'Laura', 'Kevin', 'Jonas'],\n",
    "#'score': [12.5, 9, 16.5, np.nan, 9, 20, 14.5, np.nan, 8, 19],\n",
    "#'attempts': [1, 3, 2, 3, 2, 3, 1, 1, 2, 1],\n",
    "#'qualify': ['yes', 'no', 'yes', 'no', 'no', 'yes', 'yes', 'no', 'no', 'yes']}\n",
    "#labels = ['a', 'b', 'c', 'd', 'e', 'f', 'g', 'h', 'i', 'j']\n",
    "\n",
    "#Print the three first rows using head() method\n",
    "#Delete rows with Nan values\n",
    "#Extract the 'name' and 'score' columns from the DataFrame.\n",
    "#Write a Pandas program to append a new row 'k' to data frame with these values(name : \"Suresh\", score: 15.5, attempts: 1, qualify: \"yes\")\n",
    "#Write a Pandas program to delete the 'attempts' column from the DataFrame.\n",
    "#Add a new column \"Success\" : if the score is higher than 10 we will have 1 else we will have 0\n",
    "#After executing the final dataframe, export it into csv file named \"my_data\"\n",
    "import pandas as pd\n",
    "import numpy as np\n",
    "exam_data =pd.DataFrame ({'name': ['Anastasia', 'Dima', 'Katherine', 'James', 'Emily', 'Michael', 'Matthew', 'Laura', 'Kevin', 'Jonas'],\n",
    "'score': [12.5, 9, 16.5, np.nan, 9, 20, 14.5, np.nan, 8, 19],\n",
    "'attempts': [1, 3, 2, 3, 2, 3, 1, 1, 2, 1],\n",
    "'qualify': ['yes', 'no', 'yes', 'no', 'no', 'yes', 'yes', 'no', 'no', 'yes']})\n",
    "labels = ['a', 'b', 'c', 'd', 'e', 'f', 'g', 'h', 'i', 'j']\n",
    "exam_data.head(3)\n",
    "exam_data = exam_data.dropna()\n",
    "print(exam_data)\n",
    "print(exam_data[['name', 'score']])\n",
    "exam_data.loc['k'] = ['Suresh', 15.5 , 1 , \"yes\"]\n",
    "print(exam_data)\n",
    "exam_data.pop('attempts')\n",
    "###############################\n",
    "#exam_data[\"Success\"]=exam_data.score >10\n",
    "###########################\n",
    "success=exam_data[exam_data[\"score\"]>=10].index\n",
    "exam_data.loc[success,\"success\"]=\"1\"\n",
    "\n",
    "success=exam_data[exam_data[\"score\"]<10].index\n",
    "exam_data.loc[success,\"success\"]=\"0\"\n",
    "\n",
    "print(exam_data)\n",
    "exam_data.to_csv(r'/home/noura369/Desktop/my_Data_in_Pandas.csv')"
   ]
  },
  {
   "cell_type": "code",
   "execution_count": null,
   "id": "415fd059-58fe-4e7e-b834-9e48be0c80a0",
   "metadata": {},
   "outputs": [],
   "source": []
  },
  {
   "cell_type": "code",
   "execution_count": null,
   "id": "97ef43a6-45fa-4025-9d29-51eea81c0fbc",
   "metadata": {},
   "outputs": [],
   "source": []
  }
 ],
 "metadata": {
  "kernelspec": {
   "display_name": "Python 3",
   "language": "python",
   "name": "python3"
  },
  "language_info": {
   "codemirror_mode": {
    "name": "ipython",
    "version": 3
   },
   "file_extension": ".py",
   "mimetype": "text/x-python",
   "name": "python",
   "nbconvert_exporter": "python",
   "pygments_lexer": "ipython3",
   "version": "3.9.5"
  }
 },
 "nbformat": 4,
 "nbformat_minor": 5
}
