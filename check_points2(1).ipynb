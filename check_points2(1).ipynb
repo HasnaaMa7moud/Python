{
 "cells": [
  {
   "cell_type": "code",
   "execution_count": 2,
   "id": "de75e32f-91f2-4caf-a2b3-4af3ffe045c9",
   "metadata": {},
   "outputs": [
    {
     "name": "stdin",
     "output_type": "stream",
     "text": [
      "Input your First Name :  Gehad\n",
      "Input your Last Name :  Fahmy\n"
     ]
    },
    {
     "name": "stdout",
     "output_type": "stream",
     "text": [
      "Fahmy Gehad\n"
     ]
    }
   ],
   "source": [
    "####Q1_Answer####\n",
    "first_name = input(\"Input your First Name : \")\n",
    "last_name = input(\"Input your Last Name : \")\n",
    "print(last_name + \" \" + first_name)"
   ]
  },
  {
   "cell_type": "code",
   "execution_count": 4,
   "id": "e57aca29-ae08-4397-b154-9baba2eae800",
   "metadata": {},
   "outputs": [
    {
     "name": "stdout",
     "output_type": "stream",
     "text": [
      "615\n"
     ]
    }
   ],
   "source": [
    "####Q2_Answer####\n",
    "n = int( \"%s\" % 5 )\n",
    "nn = int( \"%s%s\" % (5,5) )\n",
    "nnn = int( \"%s%s%s\" % (5,5,5) )\n",
    "print (n+nn+nnn)"
   ]
  },
  {
   "cell_type": "code",
   "execution_count": 12,
   "id": "1d73bd49-b61f-425c-8c60-a738003c3b6f",
   "metadata": {},
   "outputs": [
    {
     "name": "stdin",
     "output_type": "stream",
     "text": [
      "Please Enter a Number :  14\n"
     ]
    },
    {
     "name": "stdout",
     "output_type": "stream",
     "text": [
      "This Number is Even\n"
     ]
    }
   ],
   "source": [
    "####Q3_Answer####\n",
    "Num=int(input(\"Please Enter a Number : \"));  \n",
    "if(Num%2==0):  \n",
    "    print(\"This Number is Even\")  \n",
    "else:  \n",
    "    print(\"This Number is Odd\") \n",
    "                      \n"
   ]
  },
  {
   "cell_type": "code",
   "execution_count": 13,
   "id": "750485c2-5741-40fb-8f81-b681fd77885e",
   "metadata": {},
   "outputs": [
    {
     "name": "stdout",
     "output_type": "stream",
     "text": [
      "2030,2065,2100,2135,2170,2205,2240,2275,2310,2345,2380,2415,2450,2485,2520,2555,2590,2625,2660,2695,2730,2765,2800,2835,2870,2905,2940,2975,3010,3045,3080,3115,3150,3185\n"
     ]
    }
   ],
   "source": [
    "####Q4_Answer####\n",
    "numbers_list=[]\n",
    "for i in range(2000, 3200):\n",
    "    if (i%7==0) and (i%5==0):\n",
    "        numbers_list.append(str(i))\n",
    "print (','.join(numbers_list))\n"
   ]
  },
  {
   "cell_type": "code",
   "execution_count": 15,
   "id": "99f5bd66-11cd-435f-b1d0-59804974f41e",
   "metadata": {
    "jupyter": {
     "source_hidden": true
    },
    "tags": []
   },
   "outputs": [
    {
     "name": "stdin",
     "output_type": "stream",
     "text": [
      "Enter a number:  8\n"
     ]
    },
    {
     "name": "stdout",
     "output_type": "stream",
     "text": [
      "The factorial of 8 is 40320\n"
     ]
    }
   ],
   "source": [
    "####Q5_Answer####In this answer [the Programiz website helped me a lot]\n",
    "# Python program to find the factorial of a number provided by the user.\n",
    "# change the value for a different result\n",
    "# To take input from the user\n",
    "number = int(input(\"Enter a number: \"))\n",
    "factorial = 1\n",
    "# check if the number is negative, positive or zero\n",
    "if number < 0:\n",
    "   print(\"Sorry, factorial does not exist for negative numbers\")\n",
    "elif number == 0:\n",
    "   print(\"The factorial of 0 is 1\")\n",
    "else:\n",
    "   for i in range(1,number + 1):\n",
    "       factorial = factorial*i\n",
    "   print(\"The factorial of\",number,\"is\",factorial)\n"
   ]
  },
  {
   "cell_type": "code",
   "execution_count": 20,
   "id": "f55662c2-ad59-400f-a687-78043c1e7067",
   "metadata": {},
   "outputs": [
    {
     "name": "stdin",
     "output_type": "stream",
     "text": [
      "Enter string: hello world\n"
     ]
    },
    {
     "name": "stdout",
     "output_type": "stream",
     "text": [
      "hlowrd\n"
     ]
    }
   ],
   "source": [
    "####Q6_Answer####\n",
    "def modify(string):  \n",
    "  final = \"\"   \n",
    "  for i in range(len(string)):  \n",
    "    if i % 2 == 0:  \n",
    "      final = final + string[i]  \n",
    "  return final\n",
    "string=input(\"Enter string:\")\n",
    "print(modify(string))"
   ]
  },
  {
   "cell_type": "code",
   "execution_count": 18,
   "id": "3b3726a8-73b9-4bd1-b69b-072ddcf6e0e8",
   "metadata": {},
   "outputs": [
    {
     "name": "stdin",
     "output_type": "stream",
     "text": [
      "Enter the discount amount:  11\n"
     ]
    },
    {
     "name": "stdout",
     "output_type": "stream",
     "text": [
      "Discount :  0.55\n",
      "Net Pay  :  10.45\n"
     ]
    }
   ],
   "source": [
    "####Q7_Answer####\n",
    "# Enter the discount amount\n",
    "amount_of_discount = int(input(\"Enter the discount amount: \"))\n",
    "\n",
    "# checking conditions and calculating discount\n",
    "if(amount_of_discount>0):\n",
    "    if amount_of_discount<=5000:\n",
    "       disc = amount_of_discount*0.05\n",
    "    elif amount_of_discount<=200:\n",
    "        disc=amount_of_discount*0.1\n",
    "    else:\n",
    "         disc=0.3 * amount_of_discount\n",
    "\n",
    "    print(\"Discount : \",disc)\n",
    "    print(\"Net Pay  : \",amount_of_discount-disc)\n",
    "else:\n",
    "    print(\"Invalid Amount\")"
   ]
  }
 ],
 "metadata": {
  "kernelspec": {
   "display_name": "Python 3",
   "language": "python",
   "name": "python3"
  },
  "language_info": {
   "codemirror_mode": {
    "name": "ipython",
    "version": 3
   },
   "file_extension": ".py",
   "mimetype": "text/x-python",
   "name": "python",
   "nbconvert_exporter": "python",
   "pygments_lexer": "ipython3",
   "version": "3.9.5"
  }
 },
 "nbformat": 4,
 "nbformat_minor": 5
}
