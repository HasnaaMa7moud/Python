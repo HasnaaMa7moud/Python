{
 "cells": [
  {
   "cell_type": "code",
   "execution_count": 6,
   "id": "49fc967e-3a54-4d4f-ad46-186b81630ddc",
   "metadata": {},
   "outputs": [
    {
     "name": "stdout",
     "output_type": "stream",
     "text": [
      "(1, 2, 3)\n"
     ]
    }
   ],
   "source": [
    "#1.Write a python class named Point3D defined by x, y, and z. Define a method that returns (x, y ,z).\n",
    "#This tells Python to represent this object in the following format: (x, y, z). \n",
    "#Then create a variable named my_point containing a new instance of Point3D with x=1, y=2, and z=3 and print it.\n",
    "##############################################################################\n",
    "#Answer of Q1#\n",
    "##############\n",
    "class Point3D:\n",
    "    def __init__(self,x,y,z):\n",
    "        self.x=x\n",
    "        self.y=y\n",
    "        self.z=z\n",
    "#my_point= Point3D(1,2,3)       \n",
    "####print(my_point) when I run this(<__main__.Point3D object at 0x7f0db82230d0>)appered to me so i have to make a methode to return (self.x,self.y,self.z) \n",
    "###So I used the __repr__ method\n",
    "    def __repr__(self):\n",
    "        return \"(%d, %d, %d)\"%(self.x, self.y, self.z)# Iadded %d operator to put integresnumbers\n",
    "my_point= Point3D(1,2,3)\n",
    "print(my_point)"
   ]
  },
  {
   "cell_type": "code",
   "execution_count": 10,
   "id": "e3a2e349-9238-4aba-8259-c2b75bfcfdeb",
   "metadata": {},
   "outputs": [
    {
     "name": "stdout",
     "output_type": "stream",
     "text": [
      "1,2,3\n"
     ]
    }
   ],
   "source": [
    "class Point3D:\n",
    "    def __init__(self,x,y,z):\n",
    "        self.x=x\n",
    "        self.y=y\n",
    "        self.z=z\n",
    "    def mypoint(self):\n",
    "        return \"{},{},{}\".format(self.x, self.y, self.z)\n",
    "my_point= Point3D(1,2,3)   \n",
    "print(my_point.mypoint())\n"
   ]
  },
  {
   "cell_type": "code",
   "execution_count": 10,
   "id": "1837c8fd-0109-4c1c-8c91-38b2d58046d9",
   "metadata": {},
   "outputs": [
    {
     "name": "stdout",
     "output_type": "stream",
     "text": [
      "The perimeter of rectangle is:  14\n",
      "The area of rectangle is:  12\n"
     ]
    }
   ],
   "source": [
    "#2.Write a Python class named Rectangle constructed by a length and width.\n",
    "#Define two methods area and perimeter which will compute the area and the perimeter of the rectangle. \n",
    "#Then create a variable named my_rectangle containing a new instance of Rectangle with width=3 and length = 4 \n",
    "#and compute both of area and perimeter ( the area is expected to be 3*4=12 and perimeter 2*(3+4)=14)\n",
    "###############################################################################\n",
    "#Answer of Q2#\n",
    "##############\n",
    "class Rectangle:\n",
    "    def __init__(self,length,width):\n",
    "        self.length=length\n",
    "        self.width=width\n",
    "        \n",
    "    def perimeter(self):\n",
    "        return 2*(self.length+self.width)\n",
    "    def area(self):\n",
    "        return self.length*self.width\n",
    "# to compute area & perimeter I will creat a method to present them like:\n",
    "    def Area_Perimeter(self):\n",
    "        print(\"The perimeter of rectangle is: \", self.perimeter())\n",
    "        print(\"The area of rectangle is: \", self.area())\n",
    "        \n",
    "my_rectangle= Rectangle(3,4)       \n",
    "my_rectangle.Area_Perimeter()       "
   ]
  },
  {
   "cell_type": "code",
   "execution_count": 16,
   "id": "c483a775-180e-4881-84dd-ed74c9135696",
   "metadata": {},
   "outputs": [
    {
     "name": "stdout",
     "output_type": "stream",
     "text": [
      "28.274333882308138\n",
      "18.84955592153876\n",
      "28.274333882308138\n",
      "18.84955592153876\n",
      "the pointis outside\n"
     ]
    }
   ],
   "source": [
    "#3.Write a Python  class named Circle constructed by its center O and radius r. \n",
    "#Define two methods area and perimeter which will compute the area and the perimeter of the circle, \n",
    "#and isInside() method of the class which allows to test whether a point A(x, y) belongs to the circle C(O, r) or not.\n",
    "################################################################################\n",
    "#Answer of Q3#\n",
    "##############\n",
    "from math import pi\n",
    "class Circle:\n",
    "    def __init__(self, o,r):\n",
    "        self.o=o\n",
    "        self.r=r\n",
    "    def perimeter(self):\n",
    "        return 2*pi*self.r\n",
    "    def area(self):\n",
    "        return pi*self.r**2\n",
    "    def Inside(self,x,y):\n",
    "        if ((x- self.o[0])**2 + (y -self.o[0])**2) <=self.r**2:\n",
    "            return(\"the pointis inside\")\n",
    "        else :\n",
    "            return(\"the pointis outside\")\n",
    "x=Circle((0,1),3)\n",
    "print(x.area())\n",
    "print(x.perimeter())\n",
    "x=Circle((0,1),3)\n",
    "print(x.area())\n",
    "print(x.perimeter())\n",
    "print(x.Inside(3,4))"
   ]
  },
  {
   "cell_type": "code",
   "execution_count": 2,
   "id": "ad8d881d-e643-4a60-8cfb-ee1d008ffb09",
   "metadata": {},
   "outputs": [
    {
     "name": "stdout",
     "output_type": "stream",
     "text": [
      "this is the bank account or deposit and withdraw operations\n"
     ]
    },
    {
     "name": "stdin",
     "output_type": "stream",
     "text": [
      "Deposited Amounte: 500\n",
      "Withdrown Amount: 100\n"
     ]
    },
    {
     "name": "stdout",
     "output_type": "stream",
     "text": [
      "withdrown: 100.0\n",
      "Net available balance: 400.0\n"
     ]
    }
   ],
   "source": [
    "#4.Suppose we want to model a bank account with support for deposit and withdraw operations. Let’s create a python class named bank defined by its balance.\n",
    "#Define two methods deposit and withdraw to compute the new amount of each operation.\n",
    "################################################################################\n",
    "#Answer of Q4#\n",
    "##############\n",
    "class BankAccount:\n",
    "    def __init__(self):\n",
    "        self.balance=0\n",
    "        print(\"this is the bank account or deposit and withdraw operations\")\n",
    "    def deposit(self):        \n",
    "        amount=float(input(\"Deposited Amounte:\"))\n",
    "        self.balance = self.balance + amount#or self.balance+=amount\n",
    "    def withdraw(self):\n",
    "        amount=float(input(\"Withdrown Amount:\"))\n",
    "        if self.balance >=self.balance:\n",
    "            self.balance = self.balance - amount#or self.balance-=amount\n",
    "            print(\"withdrown:\",amount)\n",
    "        else: \n",
    "            print(\"There is no amount for withdrow process\")\n",
    "    def disply(self):\n",
    "        print(\"Net available balance:\",self.balance)\n",
    "Noura=BankAccount()\n",
    "Noura.deposit()\n",
    "Noura.withdraw()\n",
    "Noura.disply()"
   ]
  },
  {
   "cell_type": "code",
   "execution_count": null,
   "id": "95020516-82c7-4b3b-a21f-a0e485494753",
   "metadata": {},
   "outputs": [],
   "source": []
  }
 ],
 "metadata": {
  "kernelspec": {
   "display_name": "Python 3",
   "language": "python",
   "name": "python3"
  },
  "language_info": {
   "codemirror_mode": {
    "name": "ipython",
    "version": 3
   },
   "file_extension": ".py",
   "mimetype": "text/x-python",
   "name": "python",
   "nbconvert_exporter": "python",
   "pygments_lexer": "ipython3",
   "version": "3.9.5"
  }
 },
 "nbformat": 4,
 "nbformat_minor": 5
}
