{
 "cells": [
  {
   "cell_type": "code",
   "execution_count": 1,
   "id": "002fb354-ea2c-4454-86bc-598c41694853",
   "metadata": {},
   "outputs": [
    {
     "name": "stdout",
     "output_type": "stream",
     "text": [
      "Python is a widely used high-level, general-purpose, interpreted, dynamic programming language.Its design philosophy emphasizes code readability, and its syntax allows programmers to express concepts in fewer lines of code than possible in \n",
      "\n",
      "languages such as C++ or Java. \n",
      "\n",
      "Python supports multiple programming paradigms, including object-oriented, imperative and functional programming or procedural styles. It features a dynamic type system and automatic memory management and has a large and comprehensive standard library.The best way we learn anything is by practice and exercise questions. We  have started this section for those (beginner to intermediate) who are familiar with Python.\n",
      "Number of words in text file : 100\n"
     ]
    }
   ],
   "source": [
    "#Objective\n",
    "#1. Write a Python program to read an entire text file.\n",
    "#2. Write a Python program to read first n lines of a file.\n",
    "#3. Write a Python program to read last n lines of a file\n",
    "#4. Write a Python program that takes a text file as input and returns the number of words of a given text file.\n",
    "#5. (bonus) Write a Python program to read last n lines of a file\n",
    "file_in =open(r\"/home/noura369/Desktop/python.txt\",'r')\n",
    "file_3=file_in.read(3)\n",
    "#file_3=file_in.read(-3)\n",
    "####################this program i searched for from this site[https://code.maxinterview.com/code/write-a-python-program-to-read-last-n-lines-of-a-file-42770026DAF2610/]after many triels####\n",
    "####program to read the last(n) lines#####\n",
    "def read_lastnlines(fname,n):\n",
    "    with open('/home/noura369/Desktop/python.txt') as f:\n",
    "        for line in (f.readlines() [-3:]):\n",
    "            print(line)\n",
    "read_lastnlines('/home/noura369/Desktop/python.txt',3)###by the way This code ### does not give me the target too###\n",
    "############################\n",
    "#########python code to return the number of words of a given text file.###########\n",
    "file_in = file_in.read()\n",
    "words = file_in.split()###filename.split()function was used for all the words are split to return a list\n",
    "print('Number of words in text file :', len(words))\n",
    "############################\n",
    "#########(bonus )Q#########\n"
   ]
  },
  {
   "cell_type": "code",
   "execution_count": null,
   "id": "93f2a4aa-74c6-4122-82e0-fcfa880b94d3",
   "metadata": {},
   "outputs": [],
   "source": []
  }
 ],
 "metadata": {
  "kernelspec": {
   "display_name": "Python 3",
   "language": "python",
   "name": "python3"
  },
  "language_info": {
   "codemirror_mode": {
    "name": "ipython",
    "version": 3
   },
   "file_extension": ".py",
   "mimetype": "text/x-python",
   "name": "python",
   "nbconvert_exporter": "python",
   "pygments_lexer": "ipython3",
   "version": "3.9.5"
  }
 },
 "nbformat": 4,
 "nbformat_minor": 5
}
