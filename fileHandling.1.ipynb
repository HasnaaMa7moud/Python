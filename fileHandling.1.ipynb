{
 "cells": [
  {
   "cell_type": "code",
   "execution_count": 5,
   "id": "002fb354-ea2c-4454-86bc-598c41694853",
   "metadata": {},
   "outputs": [],
   "source": [
    "#Objective\n",
    "#1. Write a Python program to read an entire text file.\n",
    "#2. Write a Python program to read first n lines of a file.\n",
    "#3. Write a Python program to read last n lines of a file\n",
    "#4. Write a Python program that takes a text file as input and returns the number of words of a given text file.\n",
    "#5. (bonus) Write a Python program to read last n lines of a file\n",
    "file_in =open(r\"/home/noura369/Desktop/python.txt\",'r')\n",
    "file_3=file_in.read(3)\n"
   ]
  }
 ],
 "metadata": {
  "kernelspec": {
   "display_name": "Python 3",
   "language": "python",
   "name": "python3"
  },
  "language_info": {
   "codemirror_mode": {
    "name": "ipython",
    "version": 3
   },
   "file_extension": ".py",
   "mimetype": "text/x-python",
   "name": "python",
   "nbconvert_exporter": "python",
   "pygments_lexer": "ipython3",
   "version": "3.9.5"
  }
 },
 "nbformat": 4,
 "nbformat_minor": 5
}
