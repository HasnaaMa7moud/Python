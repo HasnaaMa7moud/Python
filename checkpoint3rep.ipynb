{
 "cells": [
  {
   "cell_type": "code",
   "execution_count": 34,
   "id": "6e7d5e41-bbb6-401f-83c4-6c313352210f",
   "metadata": {},
   "outputs": [
    {
     "name": "stdout",
     "output_type": "stream",
     "text": [
      "36\n"
     ]
    }
   ],
   "source": [
    "#Question1: \n",
    "#Write a Python program to multiplies all the items in a list.for example list=[2, 3, 6],result=36\n",
    "####Answer of Q1######\n",
    "######################\n",
    "list=[2,3,6]# the given list\n",
    "j=1\n",
    "for i in list:#To iterate i (any number) in the list\n",
    "    j=i*j\n",
    "print(j)"
   ]
  },
  {
   "cell_type": "code",
   "execution_count": 8,
   "id": "7492766e-b2ea-46ed-904c-f59dc800f2e0",
   "metadata": {},
   "outputs": [
    {
     "name": "stdout",
     "output_type": "stream",
     "text": [
      "[(2, 1), (1, 2), (2, 3), (4, 4), (2, 5)]\n"
     ]
    }
   ],
   "source": [
    "#Question2:\n",
    "\n",
    "#Write a Python program to get a list, sorted in increasing order by the last element in each tuple from a given list of non-empty tuples.\n",
    "#Sample List : [(2, 5), (1, 2), (4, 4), (2, 3), (2, 1)]\n",
    "#Expected Result : [(2, 1), (1, 2), (2, 3), (4, 4), (2, 5)]\n",
    "\n",
    "#Hint: You can use sort function\n",
    "List = [(2, 5), (1, 2), (4, 4), (2, 3), (2, 1)]\n",
    "def end(n):\n",
    "    return n[-1]\n",
    "def sorting(S):\n",
    "    return sorted(S,key=end)\n",
    "print(sorting(List))\n"
   ]
  },
  {
   "cell_type": "code",
   "execution_count": 1,
   "id": "c4deef15-b145-443e-adf1-1179e6fc9de1",
   "metadata": {},
   "outputs": [
    {
     "ename": "IndentationError",
     "evalue": "expected an indented block (<ipython-input-1-7ba3fc8b34d1>, line 14)",
     "output_type": "error",
     "traceback": [
      "\u001b[0;36m  File \u001b[0;32m\"<ipython-input-1-7ba3fc8b34d1>\"\u001b[0;36m, line \u001b[0;32m14\u001b[0m\n\u001b[0;31m    for g,h in d2.items():\u001b[0m\n\u001b[0m    ^\u001b[0m\n\u001b[0;31mIndentationError\u001b[0m\u001b[0;31m:\u001b[0m expected an indented block\n"
     ]
    }
   ],
   "source": [
    "#Question3: \n",
    "\n",
    "#Write a Python program to combine two dictionary adding values for common keys.\n",
    "#d1 = {'a': 100, 'b': 200, 'c':300}\n",
    "#d2 = {'a': 300, 'b': 200, 'd':400}\n",
    "#Expected output: {'a': 400, 'b': 400, 'd': 400, 'c': 300}\n",
    "#answer of Q3###\n",
    "################\n",
    "d1 = {'a': 100, 'b': 200, 'c':300}\n",
    "d2 = {'a': 300, 'b': 200, 'd':400}\n",
    "d3=dict(d1)\n",
    "d3.update(d2)\n",
    "for i,j in d1.items():\n",
    "for g,h in d2.items():\n",
    "    if i==g:\n",
    "        d3[i]=h+j\n",
    "print(\"d3:\",d3[i]=h+j)\n"
   ]
  },
  {
   "cell_type": "code",
   "execution_count": 7,
   "id": "7ec5a5ec-f9b7-48d1-b109-5d8ec28b6150",
   "metadata": {},
   "outputs": [
    {
     "name": "stdin",
     "output_type": "stream",
     "text": [
      "Type your no.: 8\n"
     ]
    },
    {
     "name": "stdout",
     "output_type": "stream",
     "text": [
      "{1: 1, 2: 4, 3: 9, 4: 16, 5: 25, 6: 36, 7: 49, 8: 64}\n"
     ]
    }
   ],
   "source": [
    "#Question 4\n",
    "#Question: With a given integral number n, write a program to generate a dictionary that contains (i, i*i) such that is an integral number \n",
    "#between 1 and n (both included). and then the program should print the dictionary. Suppose the following input is supplied to \n",
    "#the program: 8 Then, the output should be: {1: 1, 2: 4, 3: 9, 4: 16, 5: 25, 6: 36, 7: 49, 8: 64}\n",
    "n=int(input(\"Type your no.:\"))#type no. 8\n",
    "d1={}# create an empty dictionary \n",
    "for i in range(1,n+1):\n",
    "    d1[i]=i*i\n",
    "print(d1)"
   ]
  },
  {
   "cell_type": "code",
   "execution_count": 36,
   "id": "a11eb5e5-ac42-41d4-97d0-dff998f6ba5c",
   "metadata": {},
   "outputs": [
    {
     "name": "stdout",
     "output_type": "stream",
     "text": [
      "[('item3', '24.5'), ('item2', '15.10'), ('item1', '12.20')]\n"
     ]
    }
   ],
   "source": [
    "#Question 5: \n",
    "#Write a program to sort a tuple by its float element.For example list= [('item1', '12.20'), ('item2', '15.10'), ('item3', '24.5')];\n",
    "##Expected Output: [('item3', '24.5'), ('item2', '15.10'), ('item1', '12.20')]\n",
    "#Sample List : [(2, 5), (1, 2), (4, 4), (2, 3), (2, 1)]\n",
    "#Expected Result : [(2, 1), (1, 2), (2, 3), (4, 4), (2, 5)]\n",
    "Tuple1= [('item1', '12.20'), ('item2', '15.10'), ('item3', '24.5')]\n",
    "#Tuple1_sortedII=[]\n",
    "#for i in Tuple1:\n",
    " #   Tuple1_sortedII=(Tuple1[i[1]])\n",
    " #   print(Tuple1_sortedII\n",
    "def end(n):\n",
    "    return n[-1]\n",
    "def sort_(s):\n",
    "    return sorted(s,key=end,reverse = True)\n",
    "print(sort_(Tuple1))  "
   ]
  }
 ],
 "metadata": {
  "kernelspec": {
   "display_name": "Python 3",
   "language": "python",
   "name": "python3"
  },
  "language_info": {
   "codemirror_mode": {
    "name": "ipython",
    "version": 3
   },
   "file_extension": ".py",
   "mimetype": "text/x-python",
   "name": "python",
   "nbconvert_exporter": "python",
   "pygments_lexer": "ipython3",
   "version": "3.9.5"
  }
 },
 "nbformat": 4,
 "nbformat_minor": 5
}
