{
 "cells": [
  {
   "cell_type": "code",
   "execution_count": 9,
   "id": "ceeea841-ae60-41be-96a0-45512ebf7415",
   "metadata": {},
   "outputs": [
    {
     "name": "stdout",
     "output_type": "stream",
     "text": [
      "35\n"
     ]
    }
   ],
   "source": [
    "#Question 1\n",
    "#Write a Python function to find the Max of three numbers.for example, the max of these three numbers 20, 35, 19 is 35\n",
    "#Answer of Q1#\n",
    "##############\n",
    "def my_function_max(i,j,h):\n",
    "    if (i>j) and (j>h):\n",
    "        print(i)\n",
    "    if (j>i) and (j>h):\n",
    "        print(j)\n",
    "    if (h>i) and (h>j):\n",
    "        print(h)\n",
    "print= my_function_max(20,35,19)"
   ]
  },
  {
   "cell_type": "code",
   "execution_count": 2,
   "id": "f8ffa498-5782-4294-9ad3-a19fcacb9a49",
   "metadata": {},
   "outputs": [
    {
     "name": "stdin",
     "output_type": "stream",
     "text": [
      " 20\n",
      " 35\n",
      " 19\n"
     ]
    },
    {
     "name": "stdout",
     "output_type": "stream",
     "text": [
      "35\n"
     ]
    }
   ],
   "source": [
    "#Question 1\n",
    "#Write a Python function to find the Max of three numbers.for example, the max of these three numbers 20, 35, 19 is 35\n",
    "#Answer of Q1#\n",
    "#########################\n",
    "def my_function_max(i,j,h):\n",
    "    x = [i,j,h]\n",
    "    return max(x)\n",
    "##########################\n",
    "x = int(input())\n",
    "y = int(input())\n",
    "z = int(input())\n",
    "print(my_function_max(x,y,z))"
   ]
  },
  {
   "cell_type": "code",
   "execution_count": 3,
   "id": "8858786c-7eac-488a-962c-c43bcfb96878",
   "metadata": {},
   "outputs": [
    {
     "data": {
      "text/plain": [
       "(50, 30)"
      ]
     },
     "execution_count": 3,
     "metadata": {},
     "output_type": "execute_result"
    }
   ],
   "source": [
    "#Question 2\n",
    "#Write a function calculation() such that it can accept two variables and calculate the addition and subtraction of it. \n",
    "#And also it must return both addition and subtraction in a single return call\n",
    "#For example:calculation(40, 10) should produce 50, 30\n",
    "#Answer of Q2#\n",
    "##############\n",
    "def calc(i,g):\n",
    "    w=i+g\n",
    "    y=i-g\n",
    "    return(w,y)\n",
    "calc(40,10)"
   ]
  },
  {
   "cell_type": "code",
   "execution_count": 29,
   "id": "6412859e-1582-4cfd-b249-910bd28bcebc",
   "metadata": {},
   "outputs": [],
   "source": [
    "#Question 3\n",
    "#* Write a function that sums the elements of a list of integers.\n",
    "#* Write a function that multiplies the elements of an integer list.\n",
    "#* Use the two functions to sum the elements whose position is an even number (0,2,4…) and multiply the rest.\n",
    "#Hint: Consider extracting two lists from a first list \n",
    "#Answer Q3#\n",
    "##########\n",
    "list1=[]\n",
    "def summition(w):\n",
    "    y=1\n",
    "    for i in list1: \n",
    "        y=sum(list1)\n",
    "    return(w)\n",
    "def multiplication(B):\n",
    "    for h in w:\n",
    "        B=B*h\n",
    "    return(B)   \n",
    "    "
   ]
  },
  {
   "cell_type": "code",
   "execution_count": 13,
   "id": "aebd4d76-db5d-4932-b280-de94fb6ffdf3",
   "metadata": {},
   "outputs": [
    {
     "ename": "TypeError",
     "evalue": "can only join an iterable",
     "output_type": "error",
     "traceback": [
      "\u001b[0;31m---------------------------------------------------------------------------\u001b[0m",
      "\u001b[0;31mTypeError\u001b[0m                                 Traceback (most recent call last)",
      "\u001b[0;32m<ipython-input-13-10030fa09768>\u001b[0m in \u001b[0;36m<module>\u001b[0;34m\u001b[0m\n\u001b[1;32m     11\u001b[0m     \u001b[0;32mreturn\u001b[0m \u001b[0;34m(\u001b[0m\u001b[0;34m'-'\u001b[0m\u001b[0;34m.\u001b[0m\u001b[0mjoin\u001b[0m\u001b[0;34m(\u001b[0m\u001b[0mw_sort\u001b[0m\u001b[0;34m)\u001b[0m\u001b[0;34m)\u001b[0m\u001b[0;34m\u001b[0m\u001b[0;34m\u001b[0m\u001b[0m\n\u001b[1;32m     12\u001b[0m \u001b[0mItems\u001b[0m\u001b[0;34m=\u001b[0m\u001b[0;34m(\u001b[0m\u001b[0;34m'green-red-yellow-black-white'\u001b[0m\u001b[0;34m)\u001b[0m\u001b[0;34m\u001b[0m\u001b[0;34m\u001b[0m\u001b[0m\n\u001b[0;32m---> 13\u001b[0;31m \u001b[0mprint\u001b[0m\u001b[0;34m(\u001b[0m\u001b[0mhyphen_separated_words\u001b[0m\u001b[0;34m(\u001b[0m\u001b[0mItems\u001b[0m\u001b[0;34m)\u001b[0m\u001b[0;34m)\u001b[0m\u001b[0;34m\u001b[0m\u001b[0;34m\u001b[0m\u001b[0m\n\u001b[0m",
      "\u001b[0;32m<ipython-input-13-10030fa09768>\u001b[0m in \u001b[0;36mhyphen_separated_words\u001b[0;34m(w)\u001b[0m\n\u001b[1;32m      9\u001b[0m     \u001b[0mw_split\u001b[0m \u001b[0;34m=\u001b[0m \u001b[0mw\u001b[0m\u001b[0;34m.\u001b[0m\u001b[0msplit\u001b[0m\u001b[0;34m(\u001b[0m\u001b[0;34m'-'\u001b[0m\u001b[0;34m)\u001b[0m\u001b[0;34m\u001b[0m\u001b[0;34m\u001b[0m\u001b[0m\n\u001b[1;32m     10\u001b[0m     \u001b[0mw_sort\u001b[0m\u001b[0;34m=\u001b[0m\u001b[0mw_split\u001b[0m\u001b[0;34m.\u001b[0m\u001b[0msort\u001b[0m\u001b[0;34m(\u001b[0m\u001b[0;34m)\u001b[0m\u001b[0;34m\u001b[0m\u001b[0;34m\u001b[0m\u001b[0m\n\u001b[0;32m---> 11\u001b[0;31m     \u001b[0;32mreturn\u001b[0m \u001b[0;34m(\u001b[0m\u001b[0;34m'-'\u001b[0m\u001b[0;34m.\u001b[0m\u001b[0mjoin\u001b[0m\u001b[0;34m(\u001b[0m\u001b[0mw_sort\u001b[0m\u001b[0;34m)\u001b[0m\u001b[0;34m)\u001b[0m\u001b[0;34m\u001b[0m\u001b[0;34m\u001b[0m\u001b[0m\n\u001b[0m\u001b[1;32m     12\u001b[0m \u001b[0mItems\u001b[0m\u001b[0;34m=\u001b[0m\u001b[0;34m(\u001b[0m\u001b[0;34m'green-red-yellow-black-white'\u001b[0m\u001b[0;34m)\u001b[0m\u001b[0;34m\u001b[0m\u001b[0;34m\u001b[0m\u001b[0m\n\u001b[1;32m     13\u001b[0m \u001b[0mprint\u001b[0m\u001b[0;34m(\u001b[0m\u001b[0mhyphen_separated_words\u001b[0m\u001b[0;34m(\u001b[0m\u001b[0mItems\u001b[0m\u001b[0;34m)\u001b[0m\u001b[0;34m)\u001b[0m\u001b[0;34m\u001b[0m\u001b[0;34m\u001b[0m\u001b[0m\n",
      "\u001b[0;31mTypeError\u001b[0m: can only join an iterable"
     ]
    }
   ],
   "source": [
    "#Question 4\n",
    "#Write a Python program that accepts a hyphen-separated sequence of words as input and prints the words in a hyphen-separated sequence after sorting them alphabetically.\n",
    "#Sample Items : green-red-yellow-black-white\n",
    "#Expected Result : black-green-red-white-yellow\n",
    "#Hint : There's a split function to separate your input string into words and a sort function to sort.\n",
    "#Answer Q4#\n",
    "###########\n",
    "def hyphen_separated_words(w):\n",
    "    w_split = w.split('-')\n",
    "    w_sort=w_split.sort()\n",
    "    return ('-'.join(w_sort))\n",
    "Items=('green-red-yellow-black-white')\n",
    "print(hyphen_separated_words(Items))"
   ]
  },
  {
   "cell_type": "code",
   "execution_count": 22,
   "id": "6f92c2f3-2985-4fb5-b54a-a943cc666d06",
   "metadata": {},
   "outputs": [
    {
     "name": "stdin",
     "output_type": "stream",
     "text": [
      "enter your value: 2\n"
     ]
    },
    {
     "data": {
      "text/plain": [
       "2.581988897471611"
      ]
     },
     "execution_count": 22,
     "metadata": {},
     "output_type": "execute_result"
    }
   ],
   "source": [
    "#Question 5 (Bonus)\n",
    "#Write a function that calculates and prints the value according to the given formula: \n",
    "#Q = Square root of [(2 * C * D)/H] Following are the fixed values of C and H: C is 50. H is 30. D is the variable whose values should be input to your program \n",
    "#in a comma-separated sequence. Example Let us assume the following comma separated input sequence is given to the function: 100,150,180 \n",
    "#The output of the program should be: 18,22,24 \n",
    "#Hints: If the output received is in decimal form, it should be rounded off to its nearest value \n",
    "#(for example, if the output received is 26.0, it should be printed as 26) In case of input data being supplied to the question, it should be assumed to be a console input. \n",
    "import math\n",
    "D= input(\"enter your value:\")\n",
    "def Equation_Apply(Q):\n",
    "    Q=math.sqrt(2*50*int(D)/30)\n",
    "    return(Q)\n",
    "Equation_Apply(100)"
   ]
  },
  {
   "cell_type": "code",
   "execution_count": null,
   "id": "1d88346d-f7e6-4820-a4e0-0b80396ad45e",
   "metadata": {},
   "outputs": [],
   "source": []
  }
 ],
 "metadata": {
  "kernelspec": {
   "display_name": "Python 3",
   "language": "python",
   "name": "python3"
  },
  "language_info": {
   "codemirror_mode": {
    "name": "ipython",
    "version": 3
   },
   "file_extension": ".py",
   "mimetype": "text/x-python",
   "name": "python",
   "nbconvert_exporter": "python",
   "pygments_lexer": "ipython3",
   "version": "3.9.5"
  }
 },
 "nbformat": 4,
 "nbformat_minor": 5
}
