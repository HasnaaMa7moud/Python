{
 "cells": [
  {
   "cell_type": "code",
   "execution_count": 1,
   "id": "487b5fb6-808f-45d7-b26b-c26de009f56c",
   "metadata": {},
   "outputs": [
    {
     "ename": "SyntaxError",
     "evalue": "invalid syntax (901412822.py, line 9)",
     "output_type": "error",
     "traceback": [
      "\u001b[0;36m  Input \u001b[0;32mIn [1]\u001b[0;36m\u001b[0m\n\u001b[0;31m    elif item #less than midpoint_value:\u001b[0m\n\u001b[0m              ^\u001b[0m\n\u001b[0;31mSyntaxError\u001b[0m\u001b[0;31m:\u001b[0m invalid syntax\n"
     ]
    }
   ],
   "source": [
    "def binary_search(sequence, item):\n",
    "    begin_index = 0\n",
    "    end_index = len(sequence) - 1\n",
    "    while begin_index <= end_index:#less than= end_index\n",
    "        midpoint = begin_index + (end_index - begin_index) // 2\n",
    "        midpoint_value = sequence[midpoint]\n",
    "        if midpoint_value == item:\n",
    "            return midpoint\n",
    "        elif item #less than midpoint_value:\n",
    "            end_index = midpoint - 1\n",
    "        else:\n",
    "            begin_index = midpoint + 1\n",
    "        return None\n",
    "print(binary_search([1,2,3,5,8], 6))\n",
    "print(binary_search([1,2,3,5,8], 5))"
   ]
  },
  {
   "cell_type": "code",
   "execution_count": 2,
   "id": "f017ece0-7613-4f3c-8631-a8e195eb5be7",
   "metadata": {},
   "outputs": [
    {
     "name": "stdout",
     "output_type": "stream",
     "text": [
      "81\n"
     ]
    }
   ],
   "source": [
    "def power(a,b):\n",
    "    if b==0:\n",
    "        return 1\n",
    "    elif a==0:\n",
    "        return 0\n",
    "    elif b==1:\n",
    "        return a\n",
    "    else:\n",
    "        return a*power(a,b-1)\n",
    "print(power(3,4))\n"
   ]
  },
  {
   "cell_type": "code",
   "execution_count": 5,
   "id": "149288aa-fe1f-49c0-b294-4c059d7440f7",
   "metadata": {},
   "outputs": [
    {
     "name": "stdout",
     "output_type": "stream",
     "text": [
      "[13, 13, 22, 37, 46, 46, 46, 56, 56]\n"
     ]
    }
   ],
   "source": [
    "def Bubble_Sort(alist):\n",
    "    exchanges = True\n",
    "    passnum = len(lst)-1\n",
    "    while passnum > 0 and exchanges:\n",
    "       exchanges = False\n",
    "       for i in range(passnum):\n",
    "           if lst[i]>lst[i+1]:\n",
    "               exchanges = True\n",
    "               temp = alist[i]\n",
    "               lst[i] = lst[i+1]\n",
    "               lst[i+1] = temp\n",
    "       passnum = passnum-1\n",
    "\n",
    "lst=[29,13,22,37,52,49,46,71,56]\n",
    "Bubble_Sort(alist)\n",
    "print(lst)"
   ]
  },
  {
   "cell_type": "code",
   "execution_count": null,
   "id": "3e32e2f5-e7a1-4d92-81b1-5a8157aae1c6",
   "metadata": {},
   "outputs": [],
   "source": []
  }
 ],
 "metadata": {
  "kernelspec": {
   "display_name": "Python 3 (ipykernel)",
   "language": "python",
   "name": "python3"
  },
  "language_info": {
   "codemirror_mode": {
    "name": "ipython",
    "version": 3
   },
   "file_extension": ".py",
   "mimetype": "text/x-python",
   "name": "python",
   "nbconvert_exporter": "python",
   "pygments_lexer": "ipython3",
   "version": "3.8.10"
  }
 },
 "nbformat": 4,
 "nbformat_minor": 5
}
